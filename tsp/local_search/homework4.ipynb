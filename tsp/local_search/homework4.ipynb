{
 "nbformat": 4,
 "nbformat_minor": 2,
 "metadata": {
  "language_info": {
   "name": "python",
   "codemirror_mode": {
    "name": "ipython",
    "version": 3
   },
   "version": "3.7.4-final"
  },
  "orig_nbformat": 2,
  "file_extension": ".py",
  "mimetype": "text/x-python",
  "name": "python",
  "npconvert_exporter": "python",
  "pygments_lexer": "ipython3",
  "version": 3,
  "kernelspec": {
   "name": "python37464bitbaseconda5ecd62b9d5a249bcbc44a7b945debb09",
   "display_name": "Python 3.7.4 64-bit ('base': conda)"
  }
 },
 "cells": [
  {
   "cell_type": "markdown",
   "metadata": {},
   "source": [
    "# Data\n",
    "\n",
    "- $C=\\{1,2,3,4,5,6,7,8\\}$ $\\leftarrow$ set of cities to visit.\n",
    "\n",
    "- $n = 8$ $\\leftarrow$ number of cities.\n",
    "\n",
    "- $T = (1,2,3,4,5,6,7,8)$ $\\leftarrow$ current tour."
   ]
  },
  {
   "cell_type": "code",
   "execution_count": 1,
   "metadata": {},
   "outputs": [],
   "source": [
    "tour = [1, 2, 3, 4, 5, 6, 7, 8]"
   ]
  },
  {
   "cell_type": "markdown",
   "metadata": {},
   "source": [
    " - Coordinates of each city:"
   ]
  },
  {
   "cell_type": "code",
   "execution_count": 2,
   "metadata": {},
   "outputs": [],
   "source": [
    "coords = (\n",
    "    # x   y    city\n",
    "    (86, 37), # 1\n",
    "    (17, 94), # 2\n",
    "    ( 3, 65), # 3\n",
    "    (48, 43), # 4\n",
    "    (78, 70), # 5\n",
    "    (17, 55), # 6\n",
    "    (62, 91), # 7\n",
    "    (78, 91)  # 8\n",
    ")"
   ]
  },
  {
   "cell_type": "markdown",
   "metadata": {},
   "source": [
    "- $D=(d_{ij})$, $i,j \\in C$ $\\leftarrow$ matrix of distances between cities."
   ]
  },
  {
   "cell_type": "code",
   "execution_count": 3,
   "metadata": {},
   "outputs": [
    {
     "output_type": "execute_result",
     "data": {
      "text/plain": "[[0, 89, 87, 38, 33, 71, 59, 54],\n [89, 0, 32, 59, 65, 39, 45, 61],\n [87, 32, 0, 50, 75, 17, 64, 79],\n [38, 59, 50, 0, 40, 33, 50, 56],\n [33, 65, 75, 40, 0, 62, 26, 21],\n [71, 39, 17, 33, 62, 0, 57, 70],\n [59, 45, 64, 50, 26, 57, 0, 16],\n [54, 61, 79, 56, 21, 70, 16, 0]]"
     },
     "metadata": {},
     "execution_count": 3
    }
   ],
   "source": [
    "import math\n",
    "distances = [\n",
    "    [\n",
    "        int(math.hypot(abs(coords[i][0] - coords[j][0]), abs(coords[i][1] - coords[j][1])))\n",
    "        if i != j else 0\n",
    "        for j in range(len(coords))\n",
    "    ]\n",
    "    for i in range(len(coords))\n",
    "]\n",
    "distances"
   ]
  }
 ]
}