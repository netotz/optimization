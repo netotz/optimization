{
 "nbformat": 4,
 "nbformat_minor": 2,
 "metadata": {
  "language_info": {
   "name": "python",
   "codemirror_mode": {
    "name": "ipython",
    "version": 3
   },
   "version": "3.7.4-final"
  },
  "orig_nbformat": 2,
  "file_extension": ".py",
  "mimetype": "text/x-python",
  "name": "python",
  "npconvert_exporter": "python",
  "pygments_lexer": "ipython3",
  "version": 3,
  "kernelspec": {
   "name": "python37464bitbaseconda5ecd62b9d5a249bcbc44a7b945debb09",
   "display_name": "Python 3.7.4 64-bit ('base': conda)"
  }
 },
 "cells": [
  {
   "cell_type": "markdown",
   "metadata": {},
   "source": [
    "# Data\n",
    "\n",
    "- $C=\\{0,1,2,3,4,5,6,7\\}$ $\\leftarrow$ set of cities to visit.\n",
    "\n",
    "- $n = 8$ $\\leftarrow$ number of cities."
   ]
  },
  {
   "cell_type": "code",
   "execution_count": 1,
   "metadata": {},
   "outputs": [
    {
     "data": {
      "text/plain": "[0, 1, 2, 3, 4, 5, 6, 7]"
     },
     "execution_count": 1,
     "metadata": {},
     "output_type": "execute_result"
    }
   ],
   "source": [
    "cities = [c for c in range(8)]\n",
    "cities"
   ]
  },
  {
   "cell_type": "markdown",
   "metadata": {},
   "source": [
    "- $D=(d_{ij})$, $i,j \\in C$ $\\leftarrow$ matrix of distances between cities."
   ]
  },
  {
   "cell_type": "code",
   "execution_count": 2,
   "metadata": {},
   "outputs": [],
   "source": [
    "distances = [\n",
    "    [0, 89, 87, 38, 33, 71, 59, 54],\n",
    "    [89, 0, 32, 59, 65, 39, 45, 61],\n",
    "    [87, 32, 0, 50, 75, 17, 64, 79],\n",
    "    [38, 59, 50, 0, 40, 33, 50, 56],\n",
    "    [33, 65, 75, 40, 0, 62, 26, 21],\n",
    "    [71, 39, 17, 33, 62, 0, 57, 70],\n",
    "    [59, 45, 64, 50, 26, 57, 0, 16],\n",
    "    [54, 61, 79, 56, 21, 70, 16, 0]\n",
    "]"
   ]
  },
  {
   "cell_type": "markdown",
   "metadata": {},
   "source": [
    "# Decision\n",
    "\n",
    "- $T=\\{t_1,t_2,t_3,t_4,t_5,t_6,t_7,t_8,t_9=t_1\\}$, $t_i \\in C$ $\\leftarrow$ ordered set of visited cities.\n",
    "\n",
    "- $T = \\{\\}$ $\\leftarrow$ initialize tour as an empty set."
   ]
  },
  {
   "cell_type": "code",
   "execution_count": 3,
   "metadata": {},
   "outputs": [],
   "source": [
    "tour = []"
   ]
  },
  {
   "cell_type": "markdown",
   "metadata": {},
   "source": [
    "# Objective\n",
    "\n",
    "The objective is to get a tour $T$ that visits all cities in $C$, ending with the first city, such that the total distance of the tour is as minimal as possible."
   ]
  },
  {
   "cell_type": "markdown",
   "metadata": {},
   "source": [
    "$$\n",
    "\\begin{aligned}\n",
    "& \\underset{t \\in T}{\\text{min}}\n",
    "& & \\sum_{i=1}^{n} d_{t_i t_{i+1}}\n",
    "\\end{aligned}\n",
    "$$"
   ]
  },
  {
   "cell_type": "markdown",
   "metadata": {},
   "source": [
    "# Procedure"
   ]
  },
  {
   "cell_type": "markdown",
   "metadata": {},
   "source": [
    "## Initial step\n",
    "\n",
    "To start the tour, the two nearest cities will be chosen first; that is, we will find the smallest edge in the matrix of distances, excluding the positions of the same cities:"
   ]
  },
  {
   "cell_type": "code",
   "execution_count": 4,
   "metadata": {},
   "outputs": [
    {
     "data": {
      "text/plain": "16"
     },
     "execution_count": 4,
     "metadata": {},
     "output_type": "execute_result"
    }
   ],
   "source": [
    "minimums = (min(enumerate(row), key=lambda l: l[1] if l[1] > 0 else float('inf')) for _, row in enumerate(distances))\n",
    "smallest = min(enumerate(minimums), key=lambda m: m[1][1])\n",
    "smallest[1][1]"
   ]
  },
  {
   "cell_type": "markdown",
   "metadata": {},
   "source": [
    "The smallest edge is $16$, but what we need are the coordinates (the cities) to which that edge belongs:"
   ]
  },
  {
   "cell_type": "code",
   "execution_count": 5,
   "metadata": {},
   "outputs": [
    {
     "data": {
      "text/plain": "(6, 7)"
     },
     "execution_count": 5,
     "metadata": {},
     "output_type": "execute_result"
    }
   ],
   "source": [
    "c1 = smallest[0]\n",
    "c2 = smallest[1][0]\n",
    "c1, c2"
   ]
  },
  {
   "cell_type": "markdown",
   "metadata": {},
   "source": [
    "Now we can append cities $6$ and $7$ to our tour $T$:\n",
    "\n",
    "$T=T\\oplus\\{6, 7\\}$"
   ]
  },
  {
   "cell_type": "code",
   "execution_count": 6,
   "metadata": {},
   "outputs": [
    {
     "data": {
      "text/plain": "[6, 7]"
     },
     "execution_count": 6,
     "metadata": {},
     "output_type": "execute_result"
    }
   ],
   "source": [
    "tour.extend([6, 7])\n",
    "tour"
   ]
  },
  {
   "cell_type": "markdown",
   "metadata": {},
   "source": [
    "In the TSP, the tour ends with the first visited city, so our tour $T$ should look like $\\{6, 7, \\ldots, 6\\}$:"
   ]
  },
  {
   "cell_type": "code",
   "execution_count": 7,
   "metadata": {},
   "outputs": [
    {
     "data": {
      "text/plain": "[6, 7, 6]"
     },
     "execution_count": 7,
     "metadata": {},
     "output_type": "execute_result"
    }
   ],
   "source": [
    "tour.append(6)\n",
    "tour"
   ]
  },
  {
   "cell_type": "markdown",
   "metadata": {},
   "source": [
    "The first selected cities $6$ and $7$ need to be removed from the set of cities $C$. In order to avoid modifying $C$, we will use a new set to store the unvisited cities:\n",
    "\n",
    "$\\bar{C}=C\\setminus\\{6,7\\}$"
   ]
  },
  {
   "cell_type": "code",
   "execution_count": 8,
   "metadata": {},
   "outputs": [
    {
     "data": {
      "text/plain": "[0, 1, 2, 3, 4, 5]"
     },
     "execution_count": 8,
     "metadata": {},
     "output_type": "execute_result"
    }
   ],
   "source": [
    "cities_bar = cities\n",
    "cities_bar.remove(6)\n",
    "cities_bar.remove(7)\n",
    "cities_bar"
   ]
  },
  {
   "cell_type": "markdown",
   "metadata": {},
   "source": [
    "## Nearest Insertion Heuristic\n",
    "\n",
    "In order to solve the TSP, we will to apply the **nearest insertion heuristic**.\n",
    "\n",
    "This technique consists of selecting the closest city to the current tour, which is actually a subtour, because we haven't visited all cities yet."
   ]
  },
  {
   "cell_type": "markdown",
   "metadata": {},
   "source": [
    "### Distance function\n",
    "\n",
    "The closest city is the one whose sum of distances to every visited city in the subtour is the smallest."
   ]
  },
  {
   "cell_type": "markdown",
   "metadata": {},
   "source": [
    "$$\n",
    "\\newcommand{\\dist}{\\mathop{\\mathrm{dist}}}\n",
    "\\dist(c \\in \\bar{C}) = \\sum_{t \\in T} d_{ct}\n",
    "$$"
   ]
  },
  {
   "cell_type": "code",
   "execution_count": 9,
   "metadata": {},
   "outputs": [],
   "source": [
    "def dist(candidate_city):\n",
    "    '''Calculates the distance between candidate_city and the current subtour.'''\n",
    "    return sum(distances[candidate_city][t] for t in tour)"
   ]
  },
  {
   "cell_type": "markdown",
   "metadata": {},
   "source": [
    "### Cost function\n",
    "\n",
    "Having the next city to visit already selected, we proceed to choose an edge of the subtour in which the selected city will be inserted. This is determined by calculating the cost of removing the existing edge and creating two new ones, in order to connect the selected city $c_s$, and choose the smallest cost."
   ]
  },
  {
   "cell_type": "markdown",
   "metadata": {},
   "source": [
    "$$\n",
    "\\newcommand{\\cost}{\\mathop{\\mathrm{cost}}}\n",
    "\\cost(c_s, E) = d_{c_s e_0} + d_{c_s e_1} - d_{e_0 e_1}\n",
    "$$\n",
    "$$\n",
    "e \\in E\n",
    "$$\n",
    "$$\n",
    "\\forall E \\subset T, |E| = 2\n",
    "$$"
   ]
  },
  {
   "cell_type": "markdown",
   "metadata": {},
   "source": [
    "$E$ represents an edge of the tour $T$, which has only the two cities that form that edge, being $e_0$ and $e_1$."
   ]
  },
  {
   "cell_type": "code",
   "execution_count": 10,
   "metadata": {},
   "outputs": [],
   "source": [
    "def cost(selected_city, edge):\n",
    "    '''Calculates the cost of inserting the selected city in the edge.'''\n",
    "    t0, t1 = edge\n",
    "    distance_cs_t0 = distances[selected_city][t0]\n",
    "    distance_cs_t1 = distances[selected_city][t1]\n",
    "    distance_t0_t1 = distances[t0][t1]\n",
    "    return distance_cs_t0 + distance_cs_t1 - distance_t0_t1"
   ]
  },
  {
   "cell_type": "markdown",
   "metadata": {},
   "source": [
    "## Loop\n",
    "\n",
    "Now we will enter in a loop to check which remaining cities, $\\forall c \\in \\overline{C}$, to visit next and add them in an order to our tour $T$.\n",
    "\n",
    "The body of the whole loop looks as follows:"
   ]
  },
  {
   "cell_type": "markdown",
   "metadata": {},
   "source": [
    "while $\\bar{C} \\ne \\emptyset$ do  \n",
    "$\\hbox{}\\qquad c_s \\leftarrow \\newcommand{\\argmin}{\\mathop{\\mathrm{argmin}}\\limits} \\argmin_{c \\in \\bar{C}} \\newcommand{\\dist}{\\mathop{\\mathrm{dist}}} \\{\\dist (c)\\}$  \n",
    "$\\hbox{}\\qquad k \\leftarrow \\newcommand{\\argmin}{\\mathop{\\mathrm{argmin}}\\limits} \\argmin_{E \\subset T} \\newcommand{\\cost}{\\mathop{\\mathrm{cost}}} \\{\\cost (c_s, E)\\}$  \n",
    "$\\hbox{}\\qquad T (t_1, \\ldots, t_n) \\leftarrow T (t_1, \\ldots, t_k, c_s, t_{k+1}, \\ldots, t_n)$  \n",
    "$\\hbox{}\\qquad \\bar{C} \\leftarrow \\bar{C} \\setminus \\{c_s\\}$  \n",
    "end while"
   ]
  },
  {
   "cell_type": "markdown",
   "metadata": {},
   "source": [
    "To calculate $c_s \\leftarrow \\newcommand{\\argmin}{\\mathop{\\mathrm{argmin}}\\limits} \\argmin_{c \\in \\bar{C}} \\newcommand{\\dist}{\\mathop{\\mathrm{dist}}} \\{\\dist (c)\\}$, we will use the following function which will help us getting the actual nearest city:"
   ]
  },
  {
   "cell_type": "code",
   "execution_count": 11,
   "metadata": {},
   "outputs": [],
   "source": [
    "def nearest():\n",
    "    '''Returns a list of distances between each city and the subtour.'''\n",
    "    return [(city, dist(city)) for _, city in enumerate(cities_bar)]"
   ]
  },
  {
   "cell_type": "markdown",
   "metadata": {},
   "source": [
    "In the same way, to calculate $k \\leftarrow \\newcommand{\\argmin}{\\mathop{\\mathrm{argmin}}\\limits} \\argmin_{E \\subset T} \\newcommand{\\cost}{\\mathop{\\mathrm{cost}}} \\{\\cost (c_s, E)\\}$, we will use the following function:"
   ]
  },
  {
   "cell_type": "code",
   "execution_count": 12,
   "metadata": {},
   "outputs": [],
   "source": [
    "def argmin_cost(city):\n",
    "    '''Returns a list of costs of each city in the subtour.'''\n",
    "    indexed_costs = list()\n",
    "    for i in range(len(tour) - 1):\n",
    "        edge = (tour[i], tour[i + 1])\n",
    "        indexed_costs.append((i, cost(city, edge)))\n",
    "    return indexed_costs"
   ]
  },
  {
   "cell_type": "markdown",
   "metadata": {},
   "source": [
    "And finally, to update the tour we will use a function to insert the selected city $c_s$, obtained with `nearest()`, next to the city $t_k$ in the subtour that has the smallest cost, obtained with `argmin_cost()`, as follows:"
   ]
  },
  {
   "cell_type": "code",
   "execution_count": 13,
   "metadata": {},
   "outputs": [],
   "source": [
    "def update_tour(city, k):\n",
    "    '''Inserts the selected city in the k index of the tour.'''\n",
    "    index = k + 1\n",
    "    global tour\n",
    "    tour = tour[:index] + [city] + tour[index:]\n",
    "    return tour"
   ]
  },
  {
   "cell_type": "markdown",
   "metadata": {},
   "source": [
    "### First iteration\n",
    "\n",
    "As we already know that we need to visit six more cities to complete the tour, we can start by checking which unvisited city is the closest from our subtour:"
   ]
  },
  {
   "cell_type": "code",
   "execution_count": 14,
   "metadata": {},
   "outputs": [
    {
     "data": {
      "text/plain": "[(0, 172), (1, 151), (2, 207), (3, 156), (4, 73), (5, 184)]"
     },
     "execution_count": 14,
     "metadata": {},
     "output_type": "execute_result"
    }
   ],
   "source": [
    "nearest()"
   ]
  },
  {
   "cell_type": "markdown",
   "metadata": {},
   "source": [
    "We can see that the city $4$ is the *nearest* to the subtour, $\\therefore$ $c_s = 4$.\n",
    "\n",
    "Now we want to know the index of the city in the subtour that will be previous to $4$. In this case, because we are in the first iteration, there's only one edge available, so we can insert $4$ between $6$ and $7$ or append it before the end; in both cases, the total length of the subtour would be the same because the cost is the same. Let's append it right after $7$:\n",
    "\n",
    "$T \\leftarrow T \\oplus \\{4\\}$"
   ]
  },
  {
   "cell_type": "code",
   "execution_count": 15,
   "metadata": {},
   "outputs": [
    {
     "data": {
      "text/plain": "[6, 7, 4, 6]"
     },
     "execution_count": 15,
     "metadata": {},
     "output_type": "execute_result"
    }
   ],
   "source": [
    "# -2 means the index of penultimate city\n",
    "update_tour(4, -2)"
   ]
  },
  {
   "cell_type": "markdown",
   "metadata": {},
   "source": [
    "$\\bar{C}$ needs to be updated as the subtour $T$ grows:\n",
    "\n",
    "$\\bar{C} \\leftarrow \\bar{C} \\setminus \\{4\\}$"
   ]
  },
  {
   "cell_type": "code",
   "execution_count": 16,
   "metadata": {},
   "outputs": [
    {
     "data": {
      "text/plain": "[0, 1, 2, 3, 5]"
     },
     "execution_count": 16,
     "metadata": {},
     "output_type": "execute_result"
    }
   ],
   "source": [
    "cities_bar.remove(4)\n",
    "cities_bar"
   ]
  },
  {
   "cell_type": "markdown",
   "metadata": {},
   "source": [
    "### Second iteration\n",
    "\n",
    "Let's choose the nearest city to our subtour $T$:"
   ]
  },
  {
   "cell_type": "code",
   "execution_count": 17,
   "metadata": {},
   "outputs": [
    {
     "data": {
      "text/plain": "[(0, 205), (1, 216), (2, 282), (3, 196), (5, 246)]"
     },
     "execution_count": 17,
     "metadata": {},
     "output_type": "execute_result"
    }
   ],
   "source": [
    "nearest()"
   ]
  },
  {
   "cell_type": "markdown",
   "metadata": {},
   "source": [
    "The city $3$ is the closest one, with a total distance of $196$. Now let's find the best edge to break from $T$:"
   ]
  },
  {
   "cell_type": "code",
   "execution_count": 18,
   "metadata": {},
   "outputs": [
    {
     "data": {
      "text/plain": "[(0, 90), (1, 75), (2, 64)]"
     },
     "execution_count": 18,
     "metadata": {},
     "output_type": "execute_result"
    }
   ],
   "source": [
    "argmin_cost(3)"
   ]
  },
  {
   "cell_type": "markdown",
   "metadata": {},
   "source": [
    "The edge between cities $t_2$ and $t_3$ is the cheapest one to break. These cities are $4$ and $6$, which means that the selected edge is the last one of the subtour:"
   ]
  },
  {
   "cell_type": "code",
   "execution_count": 19,
   "metadata": {},
   "outputs": [
    {
     "data": {
      "text/plain": "[6, 7, 4, 3, 6]"
     },
     "execution_count": 19,
     "metadata": {},
     "output_type": "execute_result"
    }
   ],
   "source": [
    "update_tour(3, 2)"
   ]
  },
  {
   "cell_type": "markdown",
   "metadata": {},
   "source": [
    "Now we must update $\\bar{C}$ by removing the city $3$:"
   ]
  },
  {
   "cell_type": "code",
   "execution_count": 20,
   "metadata": {},
   "outputs": [
    {
     "data": {
      "text/plain": "[0, 1, 2, 5]"
     },
     "execution_count": 20,
     "metadata": {},
     "output_type": "execute_result"
    }
   ],
   "source": [
    "cities_bar.remove(3)\n",
    "cities_bar"
   ]
  },
  {
   "cell_type": "markdown",
   "metadata": {},
   "source": [
    "### Third iteration\n",
    "\n",
    "We want to select the closest unvisited city to our subtour $T$:"
   ]
  },
  {
   "cell_type": "code",
   "execution_count": 21,
   "metadata": {},
   "outputs": [
    {
     "data": {
      "text/plain": "[(0, 243), (1, 275), (2, 332), (5, 279)]"
     },
     "execution_count": 21,
     "metadata": {},
     "output_type": "execute_result"
    }
   ],
   "source": [
    "nearest()"
   ]
  },
  {
   "cell_type": "markdown",
   "metadata": {},
   "source": [
    "City $0$ is the nearest to $T$. Now to find where to insert it:"
   ]
  },
  {
   "cell_type": "code",
   "execution_count": 22,
   "metadata": {},
   "outputs": [
    {
     "data": {
      "text/plain": "[(0, 97), (1, 66), (2, 31), (3, 47)]"
     },
     "execution_count": 22,
     "metadata": {},
     "output_type": "execute_result"
    }
   ],
   "source": [
    "argmin_cost(0)"
   ]
  },
  {
   "cell_type": "markdown",
   "metadata": {},
   "source": [
    "In order to minimize the cost of inserting the selected city, we will choose the $t_2$ to be the previous city to the selected one:"
   ]
  },
  {
   "cell_type": "code",
   "execution_count": 23,
   "metadata": {},
   "outputs": [
    {
     "data": {
      "text/plain": "[6, 7, 4, 0, 3, 6]"
     },
     "execution_count": 23,
     "metadata": {},
     "output_type": "execute_result"
    }
   ],
   "source": [
    "update_tour(0, 2)"
   ]
  },
  {
   "cell_type": "markdown",
   "metadata": {},
   "source": [
    "To finish the iteration, we will remove city $0$ from $\\bar{C}$:"
   ]
  },
  {
   "cell_type": "code",
   "execution_count": 24,
   "metadata": {},
   "outputs": [
    {
     "data": {
      "text/plain": "[1, 2, 5]"
     },
     "execution_count": 24,
     "metadata": {},
     "output_type": "execute_result"
    }
   ],
   "source": [
    "cities_bar.remove(0)\n",
    "cities_bar"
   ]
  },
  {
   "cell_type": "markdown",
   "metadata": {},
   "source": [
    "### Fourth iteration\n",
    "\n",
    "Let's calculate the distance from each unvisited city to our subtour $T$:"
   ]
  },
  {
   "cell_type": "code",
   "execution_count": 25,
   "metadata": {},
   "outputs": [
    {
     "data": {
      "text/plain": "[(1, 364), (2, 419), (5, 350)]"
     },
     "execution_count": 25,
     "metadata": {},
     "output_type": "execute_result"
    }
   ],
   "source": [
    "nearest()"
   ]
  },
  {
   "cell_type": "markdown",
   "metadata": {},
   "source": [
    "We will visit city $5$ next because it's the nearest to $T$. However, we need to know after what city in the subtour we will visit $c_s = 5$:"
   ]
  },
  {
   "cell_type": "code",
   "execution_count": 26,
   "metadata": {},
   "outputs": [
    {
     "data": {
      "text/plain": "[(0, 111), (1, 111), (2, 100), (3, 66), (4, 40)]"
     },
     "execution_count": 26,
     "metadata": {},
     "output_type": "execute_result"
    }
   ],
   "source": [
    "argmin_cost(5)"
   ]
  },
  {
   "cell_type": "markdown",
   "metadata": {},
   "source": [
    "Let's insert city $5$ right after $t_4$, which is city $3$:"
   ]
  },
  {
   "cell_type": "code",
   "execution_count": 28,
   "metadata": {},
   "outputs": [
    {
     "data": {
      "text/plain": "[6, 7, 4, 0, 3, 5, 6]"
     },
     "execution_count": 28,
     "metadata": {},
     "output_type": "execute_result"
    }
   ],
   "source": [
    "update_tour(5, 4)"
   ]
  },
  {
   "cell_type": "markdown",
   "metadata": {},
   "source": [
    "And remove it from $\\bar{C}$:"
   ]
  },
  {
   "cell_type": "code",
   "execution_count": 29,
   "metadata": {},
   "outputs": [
    {
     "data": {
      "text/plain": "[1, 2]"
     },
     "execution_count": 29,
     "metadata": {},
     "output_type": "execute_result"
    }
   ],
   "source": [
    "cities_bar.remove(5)\n",
    "cities_bar"
   ]
  },
  {
   "cell_type": "markdown",
   "metadata": {},
   "source": [
    "### Fifth iteration\n",
    "\n",
    "This is the last iteration that requires to check which city to visit next, because there are only two left."
   ]
  },
  {
   "cell_type": "code",
   "execution_count": 27,
   "metadata": {},
   "outputs": [
    {
     "data": {
      "text/plain": "[(1, 364), (2, 419), (5, 350)]"
     },
     "execution_count": 27,
     "metadata": {},
     "output_type": "execute_result"
    }
   ],
   "source": [
    "nearest()"
   ]
  },
  {
   "cell_type": "markdown",
   "metadata": {},
   "source": [
    "City $1$ is the next to be visited, so let's find the cheapest edge of the subtour $T$ to break:"
   ]
  },
  {
   "cell_type": "code",
   "execution_count": 30,
   "metadata": {},
   "outputs": [
    {
     "data": {
      "text/plain": "[(0, 90), (1, 105), (2, 121), (3, 110), (4, 65), (5, 27)]"
     },
     "execution_count": 30,
     "metadata": {},
     "output_type": "execute_result"
    }
   ],
   "source": [
    "argmin_cost(1)"
   ]
  },
  {
   "cell_type": "markdown",
   "metadata": {},
   "source": [
    "Again, we are going to break the last edge, which in this iteration starts at $t_5$:"
   ]
  },
  {
   "cell_type": "code",
   "execution_count": 31,
   "metadata": {},
   "outputs": [
    {
     "data": {
      "text/plain": "[6, 7, 4, 0, 3, 5, 1, 6]"
     },
     "execution_count": 31,
     "metadata": {},
     "output_type": "execute_result"
    }
   ],
   "source": [
    "update_tour(1, 5)"
   ]
  },
  {
   "cell_type": "markdown",
   "metadata": {},
   "source": [
    "Now remove city $1$ from $\\bar{C}$:"
   ]
  },
  {
   "cell_type": "code",
   "execution_count": 32,
   "metadata": {},
   "outputs": [
    {
     "data": {
      "text/plain": "[2]"
     },
     "execution_count": 32,
     "metadata": {},
     "output_type": "execute_result"
    }
   ],
   "source": [
    "cities_bar.remove(1)\n",
    "cities_bar"
   ]
  },
  {
   "cell_type": "markdown",
   "metadata": {},
   "source": [
    "### Sixth iteration\n",
    "\n",
    "We already know that city $2$ is the last one to visit, so we just need to get the index of a visited city in our subtour $T$ which cost is the smallest:"
   ]
  },
  {
   "cell_type": "code",
   "execution_count": 33,
   "metadata": {},
   "outputs": [
    {
     "data": {
      "text/plain": "[(0, 127), (1, 133), (2, 129), (3, 99), (4, 34), (5, 10), (6, 51)]"
     },
     "execution_count": 33,
     "metadata": {},
     "output_type": "execute_result"
    }
   ],
   "source": [
    "argmin_cost(2)"
   ]
  },
  {
   "cell_type": "markdown",
   "metadata": {},
   "source": [
    "Finally, to complete the tour $T$, we will break the penultimate edge and insert city $2$ there:"
   ]
  },
  {
   "cell_type": "code",
   "execution_count": 34,
   "metadata": {},
   "outputs": [
    {
     "data": {
      "text/plain": "[6, 7, 4, 0, 3, 5, 2, 1, 6]"
     },
     "execution_count": 34,
     "metadata": {},
     "output_type": "execute_result"
    }
   ],
   "source": [
    "update_tour(2, 5)"
   ]
  },
  {
   "cell_type": "markdown",
   "metadata": {},
   "source": [
    "By removing the last city left from $\\bar{C}$, we will get an empty set:"
   ]
  },
  {
   "cell_type": "code",
   "execution_count": 35,
   "metadata": {},
   "outputs": [
    {
     "data": {
      "text/plain": "[]"
     },
     "execution_count": 35,
     "metadata": {},
     "output_type": "execute_result"
    }
   ],
   "source": [
    "cities_bar.remove(2)\n",
    "cities_bar"
   ]
  },
  {
   "cell_type": "markdown",
   "metadata": {},
   "source": [
    "This means that our loop has ended, and thus we have calculated a tour $T$."
   ]
  }
 ]
}