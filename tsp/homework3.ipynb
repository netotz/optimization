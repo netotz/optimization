{
 "nbformat": 4,
 "nbformat_minor": 2,
 "metadata": {
  "language_info": {
   "name": "python",
   "codemirror_mode": {
    "name": "ipython",
    "version": 3
   },
   "version": "3.7.4-final"
  },
  "orig_nbformat": 2,
  "file_extension": ".py",
  "mimetype": "text/x-python",
  "name": "python",
  "npconvert_exporter": "python",
  "pygments_lexer": "ipython3",
  "version": 3,
  "kernelspec": {
   "name": "python37464bitbaseconda5ecd62b9d5a249bcbc44a7b945debb09",
   "display_name": "Python 3.7.4 64-bit ('base': conda)"
  }
 },
 "cells": [
  {
   "cell_type": "markdown",
   "metadata": {},
   "source": [
    "# Data\n",
    "\n",
    "- $C=\\{0,1,2,3,4,5,6,7\\}$ $\\leftarrow$ set of cities to visit."
   ]
  },
  {
   "cell_type": "code",
   "execution_count": 1,
   "metadata": {},
   "outputs": [],
   "source": [
    "cities = [c for c in range(8)]"
   ]
  },
  {
   "cell_type": "markdown",
   "metadata": {},
   "source": [
    "- $D=(d_{ij})$, $i,j \\in C$ $\\leftarrow$ matrix of distances between cities."
   ]
  },
  {
   "cell_type": "code",
   "execution_count": 2,
   "metadata": {},
   "outputs": [],
   "source": [
    "distances = [\n",
    "    [0, 89, 87, 38, 33, 71, 59, 54],\n",
    "    [89, 0, 32, 59, 65, 39, 45, 61],\n",
    "    [87, 32, 0, 50, 75, 17, 64, 79],\n",
    "    [38, 59, 50, 0, 40, 33, 50, 56],\n",
    "    [33, 65, 75, 40, 0, 62, 26, 21],\n",
    "    [71, 39, 17, 33, 62, 0, 57, 70],\n",
    "    [59, 45, 64, 50, 26, 57, 0, 16],\n",
    "    [54, 61, 79, 56, 21, 70, 16, 0]\n",
    "]"
   ]
  },
  {
   "cell_type": "markdown",
   "metadata": {},
   "source": [
    "# Decision\n",
    "\n",
    "- $T=\\{t_1,t_2,t_3,t_4,t_5,t_6,t_7,t_8,t_9=t_1\\}$, $t_i \\in C$ $\\leftarrow$ ordered set of visited cities."
   ]
  },
  {
   "cell_type": "code",
   "execution_count": 3,
   "metadata": {},
   "outputs": [],
   "source": [
    "tour = []"
   ]
  },
  {
   "cell_type": "markdown",
   "metadata": {},
   "source": [
    "# Objective\n",
    "\n",
    "The objective is to get a tour $T$ that visits all cities in $C$, ending with the first city, such that the total distance of the tour is as minimal as possible."
   ]
  },
  {
   "cell_type": "markdown",
   "metadata": {},
   "source": [
    "$$\n",
    "\\begin{aligned}\n",
    "& \\underset{t \\in T}{\\text{min}}\n",
    "& & \\sum_{i=1}^{|T|} d_{t_i t_{i+1}}\n",
    "\\end{aligned}\n",
    "$$"
   ]
  },
  {
   "cell_type": "markdown",
   "metadata": {},
   "source": [
    "# Procedure"
   ]
  },
  {
   "cell_type": "markdown",
   "metadata": {},
   "source": [
    "## Initial step\n",
    "\n",
    "To start the tour, the two nearest cities will be chosen first; that is, we will find the smallest edge in the matrix of distances.\n",
    "\n",
    "The next function returns the minimum value in a list or set, which is the argument:"
   ]
  },
  {
   "cell_type": "code",
   "execution_count": 4,
   "metadata": {},
   "outputs": [],
   "source": [
    "def min_notzero(l):\n",
    "    '''Get minimal value that is greater than zero.'''\n",
    "    distance = l[1]\n",
    "    if distance > 0:\n",
    "        return distance\n",
    "    else:\n",
    "        return float('inf')"
   ]
  },
  {
   "cell_type": "markdown",
   "metadata": {},
   "source": [
    "Now we can get the smallest distance in the matrix, using the function above to exclude the positions of the same cities:"
   ]
  },
  {
   "cell_type": "code",
   "execution_count": 5,
   "metadata": {},
   "outputs": [
    {
     "data": {
      "text/plain": "16"
     },
     "execution_count": 5,
     "metadata": {},
     "output_type": "execute_result"
    }
   ],
   "source": [
    "minimums = (min(enumerate(row), key=min_notzero) for _, row in enumerate(distances))\n",
    "smallest = min(enumerate(minimums), key=lambda m: m[1][1])\n",
    "smallest[1][1]"
   ]
  },
  {
   "cell_type": "markdown",
   "metadata": {},
   "source": [
    "The smallest edge is $16$, but what we need are the coordinates (the cities) to which that edge belongs:"
   ]
  },
  {
   "cell_type": "code",
   "execution_count": 6,
   "metadata": {},
   "outputs": [
    {
     "data": {
      "text/plain": "(6, 7)"
     },
     "execution_count": 6,
     "metadata": {},
     "output_type": "execute_result"
    }
   ],
   "source": [
    "c1 = smallest[0]\n",
    "c2 = smallest[1][0]\n",
    "c1, c2"
   ]
  },
  {
   "cell_type": "markdown",
   "metadata": {},
   "source": [
    "Now we can append cities $6$ and $7$ to our tour $T$:\n",
    "\n",
    "$T=T\\oplus\\{6, 7\\}$"
   ]
  },
  {
   "cell_type": "code",
   "execution_count": 7,
   "metadata": {},
   "outputs": [
    {
     "data": {
      "text/plain": "[6, 7]"
     },
     "execution_count": 7,
     "metadata": {},
     "output_type": "execute_result"
    }
   ],
   "source": [
    "tour.extend([6, 7])\n",
    "tour"
   ]
  },
  {
   "cell_type": "markdown",
   "metadata": {},
   "source": [
    "And remove them from the set of cities $C$:\n",
    "\n",
    "$\\bar{C}=C\\setminus\\{6,7\\}$"
   ]
  },
  {
   "cell_type": "code",
   "execution_count": 8,
   "metadata": {},
   "outputs": [
    {
     "data": {
      "text/plain": "[0, 1, 2, 3, 4, 5]"
     },
     "execution_count": 8,
     "metadata": {},
     "output_type": "execute_result"
    }
   ],
   "source": [
    "cities_bar = cities\n",
    "cities_bar.remove(6)\n",
    "cities_bar.remove(7)\n",
    "cities_bar"
   ]
  },
  {
   "cell_type": "markdown",
   "metadata": {},
   "source": [
    "## Nearest Insertion Heuristic\n",
    "\n",
    "In order to solve the TSP, we will to apply the **nearest insertion heuristic**.\n",
    "\n",
    "This technique consists of selecting the closest city to the current tour, which is actually a subtour, because we haven't visited all cities yet."
   ]
  },
  {
   "cell_type": "markdown",
   "metadata": {},
   "source": [
    "### Nearest function\n",
    "\n",
    "The closest city is the one whose sum of distances to every visited city in the subtour is the smallest."
   ]
  },
  {
   "cell_type": "markdown",
   "metadata": {},
   "source": [
    "$$\n",
    "\\newcommand{\\nearest}{\\mathop{\\mathrm{nearest}}}\n",
    "\\nearest(c \\in \\bar{C}) = \\sum_{t \\in T} d_{ct}\n",
    "$$"
   ]
  },
  {
   "cell_type": "code",
   "execution_count": 9,
   "metadata": {},
   "outputs": [],
   "source": [
    "def nearest(candidate_city):\n",
    "    '''Returns the nearest city to the subtour.'''\n",
    "    return sum(distances[candidate_city][t] for t in tour)"
   ]
  },
  {
   "cell_type": "markdown",
   "metadata": {},
   "source": [
    "### Cost function\n",
    "\n",
    "Having the next city to visit already selected, we proceed to choose an edge of the subtour in which the selected city will be inserted. This is determined by calculating the cost of removing the existing edge and creating two new ones, in order to connect the selected city $c_s$, and choose the smallest cost."
   ]
  },
  {
   "cell_type": "markdown",
   "metadata": {},
   "source": [
    "$$\n",
    "\\newcommand{\\cost}{\\mathop{\\mathrm{cost}}}\n",
    "\\cost(c_s) = d_{c_st_i} + d_{c_st_{i+1}} - d_{t_it_{i+1}}\n",
    "$$\n",
    "$$\n",
    "t \\in T, i \\in \\{1,\\ldots,|T|\\}\n",
    "$$"
   ]
  },
  {
   "cell_type": "code",
   "execution_count": 10,
   "metadata": {},
   "outputs": [],
   "source": [
    "def cost(selected_city, edge):\n",
    "    '''Calculates the cost of inserting the selected city in the edge.'''\n",
    "    t0, t1 = edge\n",
    "    distance_cs_t0 = distances[selected_city][t0]\n",
    "    distance_cs_t1 = distances[selected_city][t1]\n",
    "    distance_t0_t1 = distances[t0][t1]\n",
    "    return distance_cs_t0 + distance_cs_t1 - distance_t0_t1"
   ]
  }
 ]
}